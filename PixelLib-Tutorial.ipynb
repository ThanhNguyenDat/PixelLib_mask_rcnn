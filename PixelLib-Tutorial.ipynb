{
 "cells": [
  {
   "cell_type": "markdown",
   "id": "396e5b76",
   "metadata": {},
   "source": [
    "I followed https://www.youtube.com/watch?v=i_-ud01wFhc"
   ]
  },
  {
   "cell_type": "markdown",
   "id": "b7143c83",
   "metadata": {},
   "source": [
    "# 1. Install and Import Dependencies"
   ]
  },
  {
   "cell_type": "code",
   "execution_count": 2,
   "id": "0f623a0c",
   "metadata": {},
   "outputs": [
    {
     "name": "stdout",
     "output_type": "stream",
     "text": [
      "Defaulting to user installation because normal site-packages is not writeable\n",
      "Requirement already satisfied: tensorflow==2.4.1 in c:\\users\\windows 10\\appdata\\roaming\\python\\python38\\site-packages (2.4.1)\n",
      "Requirement already satisfied: tensorflow-gpu==2.4.1 in c:\\users\\windows 10\\appdata\\roaming\\python\\python38\\site-packages (2.4.1)\n",
      "Collecting pixellib\n",
      "  Downloading pixellib-0.6.1-py3-none-any.whl (68 kB)\n",
      "Requirement already satisfied: opencv-python in c:\\users\\windows 10\\appdata\\roaming\\python\\python38\\site-packages (4.5.1.48)\n",
      "Requirement already satisfied: opt-einsum~=3.3.0 in c:\\users\\windows 10\\appdata\\roaming\\python\\python38\\site-packages (from tensorflow==2.4.1) (3.3.0)\n",
      "Requirement already satisfied: astunparse~=1.6.3 in c:\\users\\windows 10\\appdata\\roaming\\python\\python38\\site-packages (from tensorflow==2.4.1) (1.6.3)\n",
      "Requirement already satisfied: numpy~=1.19.2 in c:\\users\\windows 10\\appdata\\roaming\\python\\python38\\site-packages (from tensorflow==2.4.1) (1.19.5)\n",
      "Requirement already satisfied: protobuf>=3.9.2 in c:\\users\\windows 10\\appdata\\roaming\\python\\python38\\site-packages (from tensorflow==2.4.1) (3.15.8)\n",
      "Requirement already satisfied: typing-extensions~=3.7.4 in c:\\users\\windows 10\\appdata\\roaming\\python\\python38\\site-packages (from tensorflow==2.4.1) (3.7.4.3)\n",
      "Requirement already satisfied: wheel~=0.35 in c:\\users\\windows 10\\appdata\\roaming\\python\\python38\\site-packages (from tensorflow==2.4.1) (0.36.2)\n",
      "Requirement already satisfied: gast==0.3.3 in c:\\users\\windows 10\\appdata\\roaming\\python\\python38\\site-packages (from tensorflow==2.4.1) (0.3.3)\n",
      "Requirement already satisfied: grpcio~=1.32.0 in c:\\users\\windows 10\\appdata\\roaming\\python\\python38\\site-packages (from tensorflow==2.4.1) (1.32.0)\n",
      "Requirement already satisfied: tensorboard~=2.4 in c:\\program files\\python38\\lib\\site-packages (from tensorflow==2.4.1) (2.4.1)\n",
      "Requirement already satisfied: absl-py~=0.10 in c:\\users\\windows 10\\appdata\\roaming\\python\\python38\\site-packages (from tensorflow==2.4.1) (0.10.0)\n",
      "Requirement already satisfied: wrapt~=1.12.1 in c:\\users\\windows 10\\appdata\\roaming\\python\\python38\\site-packages (from tensorflow==2.4.1) (1.12.1)\n",
      "Requirement already satisfied: termcolor~=1.1.0 in c:\\users\\windows 10\\appdata\\roaming\\python\\python38\\site-packages (from tensorflow==2.4.1) (1.1.0)\n",
      "Requirement already satisfied: h5py~=2.10.0 in c:\\users\\windows 10\\appdata\\roaming\\python\\python38\\site-packages (from tensorflow==2.4.1) (2.10.0)\n",
      "Requirement already satisfied: tensorflow-estimator<2.5.0,>=2.4.0 in c:\\users\\windows 10\\appdata\\roaming\\python\\python38\\site-packages (from tensorflow==2.4.1) (2.4.0)\n",
      "Requirement already satisfied: six~=1.15.0 in c:\\users\\windows 10\\appdata\\roaming\\python\\python38\\site-packages (from tensorflow==2.4.1) (1.15.0)\n",
      "Requirement already satisfied: google-pasta~=0.2 in c:\\users\\windows 10\\appdata\\roaming\\python\\python38\\site-packages (from tensorflow==2.4.1) (0.2.0)\n",
      "Requirement already satisfied: keras-preprocessing~=1.1.2 in c:\\users\\windows 10\\appdata\\roaming\\python\\python38\\site-packages (from tensorflow==2.4.1) (1.1.2)\n",
      "Requirement already satisfied: flatbuffers~=1.12.0 in c:\\users\\windows 10\\appdata\\roaming\\python\\python38\\site-packages (from tensorflow==2.4.1) (1.12)\n",
      "Requirement already satisfied: google-auth-oauthlib<0.5,>=0.4.1 in c:\\users\\windows 10\\appdata\\roaming\\python\\python38\\site-packages (from tensorboard~=2.4->tensorflow==2.4.1) (0.4.4)\n",
      "Requirement already satisfied: google-auth<2,>=1.6.3 in c:\\users\\windows 10\\appdata\\roaming\\python\\python38\\site-packages (from tensorboard~=2.4->tensorflow==2.4.1) (1.30.0)\n",
      "Requirement already satisfied: tensorboard-plugin-wit>=1.6.0 in c:\\users\\windows 10\\appdata\\roaming\\python\\python38\\site-packages (from tensorboard~=2.4->tensorflow==2.4.1) (1.8.0)\n",
      "Requirement already satisfied: setuptools>=41.0.0 in c:\\program files\\python38\\lib\\site-packages (from tensorboard~=2.4->tensorflow==2.4.1) (49.2.1)\n",
      "Requirement already satisfied: werkzeug>=0.11.15 in c:\\users\\windows 10\\appdata\\roaming\\python\\python38\\site-packages (from tensorboard~=2.4->tensorflow==2.4.1) (1.0.1)\n",
      "Requirement already satisfied: markdown>=2.6.8 in c:\\users\\windows 10\\appdata\\roaming\\python\\python38\\site-packages (from tensorboard~=2.4->tensorflow==2.4.1) (3.3.4)\n",
      "Requirement already satisfied: requests<3,>=2.21.0 in c:\\users\\windows 10\\appdata\\roaming\\python\\python38\\site-packages (from tensorboard~=2.4->tensorflow==2.4.1) (2.25.1)\n",
      "Requirement already satisfied: pyasn1-modules>=0.2.1 in c:\\users\\windows 10\\appdata\\roaming\\python\\python38\\site-packages (from google-auth<2,>=1.6.3->tensorboard~=2.4->tensorflow==2.4.1) (0.2.8)\n",
      "Requirement already satisfied: rsa<5,>=3.1.4 in c:\\users\\windows 10\\appdata\\roaming\\python\\python38\\site-packages (from google-auth<2,>=1.6.3->tensorboard~=2.4->tensorflow==2.4.1) (4.7.2)\n",
      "Requirement already satisfied: cachetools<5.0,>=2.0.0 in c:\\users\\windows 10\\appdata\\roaming\\python\\python38\\site-packages (from google-auth<2,>=1.6.3->tensorboard~=2.4->tensorflow==2.4.1) (4.2.2)\n",
      "Requirement already satisfied: requests-oauthlib>=0.7.0 in c:\\users\\windows 10\\appdata\\roaming\\python\\python38\\site-packages (from google-auth-oauthlib<0.5,>=0.4.1->tensorboard~=2.4->tensorflow==2.4.1) (1.3.0)\n",
      "Requirement already satisfied: pyasn1<0.5.0,>=0.4.6 in c:\\users\\windows 10\\appdata\\roaming\\python\\python38\\site-packages (from pyasn1-modules>=0.2.1->google-auth<2,>=1.6.3->tensorboard~=2.4->tensorflow==2.4.1) (0.4.8)\n",
      "Requirement already satisfied: urllib3<1.27,>=1.21.1 in c:\\users\\windows 10\\appdata\\roaming\\python\\python38\\site-packages (from requests<3,>=2.21.0->tensorboard~=2.4->tensorflow==2.4.1) (1.26.4)\n",
      "Requirement already satisfied: chardet<5,>=3.0.2 in c:\\users\\windows 10\\appdata\\roaming\\python\\python38\\site-packages (from requests<3,>=2.21.0->tensorboard~=2.4->tensorflow==2.4.1) (4.0.0)\n",
      "Requirement already satisfied: idna<3,>=2.5 in c:\\users\\windows 10\\appdata\\roaming\\python\\python38\\site-packages (from requests<3,>=2.21.0->tensorboard~=2.4->tensorflow==2.4.1) (2.10)\n",
      "Requirement already satisfied: certifi>=2017.4.17 in c:\\users\\windows 10\\appdata\\roaming\\python\\python38\\site-packages (from requests<3,>=2.21.0->tensorboard~=2.4->tensorflow==2.4.1) (2020.12.5)\n",
      "Requirement already satisfied: oauthlib>=3.0.0 in c:\\users\\windows 10\\appdata\\roaming\\python\\python38\\site-packages (from requests-oauthlib>=0.7.0->google-auth-oauthlib<0.5,>=0.4.1->tensorboard~=2.4->tensorflow==2.4.1) (3.1.0)\n",
      "Collecting labelme2coco\n",
      "  Downloading labelme2coco-0.1.2-py3-none-any.whl (19 kB)\n",
      "Collecting imantics\n",
      "  Downloading imantics-0.1.12.tar.gz (13 kB)\n",
      "Collecting imgaug\n",
      "  Using cached imgaug-0.4.0-py2.py3-none-any.whl (948 kB)\n",
      "Collecting scikit-image\n",
      "  Using cached scikit_image-0.18.1-cp38-cp38-win_amd64.whl (12.2 MB)\n",
      "Requirement already satisfied: pillow in c:\\program files\\python38\\lib\\site-packages (from pixellib) (8.1.2)\n",
      "Requirement already satisfied: matplotlib in c:\\users\\windows 10\\appdata\\roaming\\python\\python38\\site-packages (from pixellib) (3.3.4)\n",
      "Collecting lxml\n",
      "  Using cached lxml-4.6.3-cp38-cp38-win_amd64.whl (3.5 MB)\n",
      "Collecting xmljson\n",
      "  Downloading xmljson-0.2.1-py2.py3-none-any.whl (10 kB)\n",
      "Requirement already satisfied: scipy in c:\\users\\windows 10\\appdata\\roaming\\python\\python38\\site-packages (from imgaug->pixellib) (1.6.0)\n",
      "Collecting Shapely\n",
      "  Using cached Shapely-1.7.1-cp38-cp38-win_amd64.whl (1.0 MB)\n",
      "Collecting imageio\n",
      "  Using cached imageio-2.9.0-py3-none-any.whl (3.3 MB)\n",
      "Collecting tifffile>=2019.7.26\n",
      "  Using cached tifffile-2021.4.8-py3-none-any.whl (165 kB)\n",
      "Collecting PyWavelets>=1.1.1\n",
      "  Using cached PyWavelets-1.1.1-cp38-cp38-win_amd64.whl (4.3 MB)\n",
      "Collecting networkx>=2.0\n",
      "  Using cached networkx-2.5.1-py3-none-any.whl (1.6 MB)\n",
      "Requirement already satisfied: python-dateutil>=2.1 in c:\\users\\windows 10\\appdata\\roaming\\python\\python38\\site-packages (from matplotlib->pixellib) (2.8.1)\n",
      "Requirement already satisfied: pyparsing!=2.0.4,!=2.1.2,!=2.1.6,>=2.0.3 in c:\\users\\windows 10\\appdata\\roaming\\python\\python38\\site-packages (from matplotlib->pixellib) (2.4.7)\n",
      "Requirement already satisfied: cycler>=0.10 in c:\\users\\windows 10\\appdata\\roaming\\python\\python38\\site-packages (from matplotlib->pixellib) (0.10.0)\n",
      "Requirement already satisfied: kiwisolver>=1.0.1 in c:\\users\\windows 10\\appdata\\roaming\\python\\python38\\site-packages (from matplotlib->pixellib) (1.3.1)\n",
      "Collecting decorator<5,>=4.3\n",
      "  Using cached decorator-4.4.2-py2.py3-none-any.whl (9.2 kB)\n",
      "Requirement already satisfied: jsonschema>=2.6.0 in c:\\users\\windows 10\\appdata\\roaming\\python\\python38\\site-packages (from labelme2coco->pixellib) (3.2.0)\n",
      "Requirement already satisfied: attrs>=17.4.0 in c:\\program files\\python38\\lib\\site-packages (from jsonschema>=2.6.0->labelme2coco->pixellib) (20.3.0)\n",
      "Requirement already satisfied: pyrsistent>=0.14.0 in c:\\users\\windows 10\\appdata\\roaming\\python\\python38\\site-packages (from jsonschema>=2.6.0->labelme2coco->pixellib) (0.17.3)\n"
     ]
    },
    {
     "name": "stdout",
     "output_type": "stream",
     "text": [
      "Building wheels for collected packages: imantics\n",
      "  Building wheel for imantics (setup.py): started\n",
      "  Building wheel for imantics (setup.py): finished with status 'done'\n",
      "  Created wheel for imantics: filename=imantics-0.1.12-py3-none-any.whl size=16033 sha256=881d7909a19d5f3a92e0eb7bdc20b0400bd0dc6a994b734ace731eb572f40a7f\n",
      "  Stored in directory: c:\\users\\windows 10\\appdata\\local\\pip\\cache\\wheels\\3d\\a5\\ec\\e0fe6d18df133bf33ddc4a4148646677f45a24be2732b4ec86\n",
      "Successfully built imantics\n",
      "Installing collected packages: decorator, tifffile, PyWavelets, networkx, imageio, xmljson, Shapely, scikit-image, lxml, labelme2coco, imgaug, imantics, pixellib\n",
      "  Attempting uninstall: decorator\n",
      "    Found existing installation: decorator 5.0.7\n",
      "    Uninstalling decorator-5.0.7:\n",
      "      Successfully uninstalled decorator-5.0.7\n",
      "Successfully installed PyWavelets-1.1.1 Shapely-1.7.1 decorator-4.4.2 imageio-2.9.0 imantics-0.1.12 imgaug-0.4.0 labelme2coco-0.1.2 lxml-4.6.3 networkx-2.5.1 pixellib-0.6.1 scikit-image-0.18.1 tifffile-2021.4.8 xmljson-0.2.1\n"
     ]
    }
   ],
   "source": [
    "!pip install tensorflow==2.4.1 tensorflow-gpu==2.4.1 pixellib opencv-python"
   ]
  },
  {
   "cell_type": "code",
   "execution_count": 3,
   "id": "05160b63",
   "metadata": {},
   "outputs": [],
   "source": [
    "import pixellib\n",
    "from pixellib.instance import instance_segmentation\n",
    "import cv2"
   ]
  },
  {
   "cell_type": "markdown",
   "id": "1b0383d3",
   "metadata": {},
   "source": [
    "# 2. Setup Model"
   ]
  },
  {
   "cell_type": "markdown",
   "id": "044bd9f5",
   "metadata": {},
   "source": [
    "Download Model mask_rcnn_coco.h5 with [link](https://github.com/matterport/Mask_RCNN/releases/tag/v2.0)"
   ]
  },
  {
   "cell_type": "code",
   "execution_count": 4,
   "id": "a01b5ca5",
   "metadata": {},
   "outputs": [
    {
     "name": "stdout",
     "output_type": "stream",
     "text": [
      "WARNING:tensorflow:From C:\\Users\\Windows 10\\AppData\\Roaming\\Python\\Python38\\site-packages\\tensorflow\\python\\util\\deprecation.py:605: calling map_fn_v2 (from tensorflow.python.ops.map_fn) with dtype is deprecated and will be removed in a future version.\n",
      "Instructions for updating:\n",
      "Use fn_output_signature instead\n"
     ]
    }
   ],
   "source": [
    "segmentation_model = instance_segmentation()\n",
    "segmentation_model.load_model(\"mask_rcnn_coco.h5\")"
   ]
  },
  {
   "cell_type": "markdown",
   "id": "cd24a3b4",
   "metadata": {},
   "source": [
    "# 3. Real Time Capture"
   ]
  },
  {
   "cell_type": "code",
   "execution_count": 6,
   "id": "5b09d298",
   "metadata": {},
   "outputs": [
    {
     "name": "stderr",
     "output_type": "stream",
     "text": [
      "C:\\Users\\Windows 10\\AppData\\Roaming\\Python\\Python38\\site-packages\\tensorflow\\python\\keras\\engine\\training.py:2325: UserWarning: `Model.state_updates` will be removed in a future version. This property should not be used in TensorFlow 2.0, as `updates` are applied automatically.\n",
      "  warnings.warn('`Model.state_updates` will be removed in a future version. '\n"
     ]
    }
   ],
   "source": [
    "cap = cv2.VideoCapture(0)\n",
    "while cap.isOpened():\n",
    "    ret, frame = cap.read()\n",
    "    \n",
    "    # Apply instance segmentation\n",
    "    res = segmentation_model.segmentFrame(frame, show_bboxes=True)\n",
    "    image = res[1]\n",
    "    \n",
    "    \n",
    "    cv2.imshow(\"Instance Segmentation\", frame)\n",
    "    \n",
    "    if cv2.waitKey(10) & 0xFF == ord('q'):\n",
    "        break\n",
    "\n",
    "cap.release()\n",
    "cv2.destroyAllWindows()"
   ]
  },
  {
   "cell_type": "code",
   "execution_count": 5,
   "id": "a75f8ccc",
   "metadata": {},
   "outputs": [],
   "source": [
    "# if you want read document, you run this cell\n",
    "segmentation_model.segmentFrame??"
   ]
  },
  {
   "cell_type": "code",
   "execution_count": null,
   "id": "aa5a0f40",
   "metadata": {},
   "outputs": [],
   "source": []
  }
 ],
 "metadata": {
  "kernelspec": {
   "display_name": "Python 3",
   "language": "python",
   "name": "python3"
  },
  "language_info": {
   "codemirror_mode": {
    "name": "ipython",
    "version": 3
   },
   "file_extension": ".py",
   "mimetype": "text/x-python",
   "name": "python",
   "nbconvert_exporter": "python",
   "pygments_lexer": "ipython3",
   "version": "3.8.9"
  }
 },
 "nbformat": 4,
 "nbformat_minor": 5
}